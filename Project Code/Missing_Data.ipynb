{
 "cells": [
  {
   "cell_type": "code",
   "execution_count": 364,
   "id": "485a625a",
   "metadata": {},
   "outputs": [],
   "source": [
    "import bs4\n",
    "from bs4 import BeautifulSoup as bs\n",
    "import time\n",
    "from selenium import webdriver\n",
    "from selenium.webdriver.chrome.options import Options\n",
    "import pandas as pd"
   ]
  },
  {
   "cell_type": "code",
   "execution_count": 374,
   "id": "4e11efe3",
   "metadata": {},
   "outputs": [],
   "source": [
    "seph1=pd.read_csv('sephora_data_overall.csv')"
   ]
  },
  {
   "cell_type": "code",
   "execution_count": 375,
   "id": "8d2f0173",
   "metadata": {},
   "outputs": [
    {
     "data": {
      "text/html": [
       "<div>\n",
       "<style scoped>\n",
       "    .dataframe tbody tr th:only-of-type {\n",
       "        vertical-align: middle;\n",
       "    }\n",
       "\n",
       "    .dataframe tbody tr th {\n",
       "        vertical-align: top;\n",
       "    }\n",
       "\n",
       "    .dataframe thead th {\n",
       "        text-align: right;\n",
       "    }\n",
       "</style>\n",
       "<table border=\"1\" class=\"dataframe\">\n",
       "  <thead>\n",
       "    <tr style=\"text-align: right;\">\n",
       "      <th></th>\n",
       "      <th>Website</th>\n",
       "      <th>brand</th>\n",
       "      <th>Product</th>\n",
       "      <th>Type</th>\n",
       "      <th>About</th>\n",
       "      <th>ingredients</th>\n",
       "      <th>Reviews</th>\n",
       "      <th>Price</th>\n",
       "    </tr>\n",
       "  </thead>\n",
       "  <tbody>\n",
       "    <tr>\n",
       "      <th>0</th>\n",
       "      <td>Sephora</td>\n",
       "      <td>AMOREPACIFIC</td>\n",
       "      <td>Color Control Cushion Compact Broad Spectrum S...</td>\n",
       "      <td>cushion</td>\n",
       "      <td>Which skin type is it good for?✔ Normal✔ Oily✔...</td>\n",
       "      <td>-Ethylhexyl Methoxycinnamate: 7%\\n -Titanium ...</td>\n",
       "      <td>4 stars</td>\n",
       "      <td>$75.00</td>\n",
       "    </tr>\n",
       "    <tr>\n",
       "      <th>1</th>\n",
       "      <td>Sephora</td>\n",
       "      <td>Dior</td>\n",
       "      <td>Dreamskin Fresh &amp;amp; Perfect Cushion Broad Sp...</td>\n",
       "      <td>cushion</td>\n",
       "      <td>What it is:  A skincare compact that blurs the...</td>\n",
       "      <td>-Longoza Flower: Renowned for its exceptional...</td>\n",
       "      <td>4 stars</td>\n",
       "      <td>$82.00</td>\n",
       "    </tr>\n",
       "    <tr>\n",
       "      <th>2</th>\n",
       "      <td>Sephora</td>\n",
       "      <td>Dior</td>\n",
       "      <td>Dior Forever Loose Cushion Powder</td>\n",
       "      <td>cushion</td>\n",
       "      <td>What it is: An ultra-fine loose powder for a l...</td>\n",
       "      <td>-Wild-Pansy ExtractSynthetic Fluorphlogopite, ...</td>\n",
       "      <td>3.5 stars</td>\n",
       "      <td>$58.00</td>\n",
       "    </tr>\n",
       "    <tr>\n",
       "      <th>3</th>\n",
       "      <td>Sephora</td>\n",
       "      <td>La Mer</td>\n",
       "      <td>The Luminous Lifting Cushion Foundation SPF 20...</td>\n",
       "      <td>cushion</td>\n",
       "      <td>What it is: A foundation with healing hydratio...</td>\n",
       "      <td>-Titanium Dioxide 6.5%\\nWater, Butylene Glyco...</td>\n",
       "      <td>4 stars</td>\n",
       "      <td>$125.00</td>\n",
       "    </tr>\n",
       "    <tr>\n",
       "      <th>4</th>\n",
       "      <td>Sephora</td>\n",
       "      <td>Dior</td>\n",
       "      <td>Dreamskin Fresh &amp;amp; Perfect Cushion Broad Sp...</td>\n",
       "      <td>cushion</td>\n",
       "      <td>What it is:  A skincare compact that blurs the...</td>\n",
       "      <td>-Longoza Flower: Renowned for its exceptional...</td>\n",
       "      <td>4.5 stars</td>\n",
       "      <td>$42.00</td>\n",
       "    </tr>\n",
       "    <tr>\n",
       "      <th>...</th>\n",
       "      <td>...</td>\n",
       "      <td>...</td>\n",
       "      <td>...</td>\n",
       "      <td>...</td>\n",
       "      <td>...</td>\n",
       "      <td>...</td>\n",
       "      <td>...</td>\n",
       "      <td>...</td>\n",
       "    </tr>\n",
       "    <tr>\n",
       "      <th>998</th>\n",
       "      <td>Sephora</td>\n",
       "      <td>HUDA BEAUTY</td>\n",
       "      <td>Resting Boss Face Waterproof Setting Spray</td>\n",
       "      <td>face mist</td>\n",
       "      <td>NaN</td>\n",
       "      <td>&lt;div&gt;Alcohol Denat., Water, Glycerin, Isopropy...</td>\n",
       "      <td>3 stars</td>\n",
       "      <td>$33.00</td>\n",
       "    </tr>\n",
       "    <tr>\n",
       "      <th>999</th>\n",
       "      <td>Sephora</td>\n",
       "      <td>Too Faced</td>\n",
       "      <td>Mini Hangover 3-in-1 Replenishing Primer &amp;amp;...</td>\n",
       "      <td>face mist</td>\n",
       "      <td>&lt;div&gt;&lt;b&gt;What it is:&lt;/b&gt;&lt;br&gt; A mini weightless,...</td>\n",
       "      <td>&lt;div&gt;Water, Pentylene Glycol, Aloe Barbadensis...</td>\n",
       "      <td>4 stars</td>\n",
       "      <td>$17.00</td>\n",
       "    </tr>\n",
       "    <tr>\n",
       "      <th>1000</th>\n",
       "      <td>Sephora</td>\n",
       "      <td>bareMinerals</td>\n",
       "      <td>Original Mineral Veil Pressed Setting Powder</td>\n",
       "      <td>face mist</td>\n",
       "      <td>&lt;div&gt;&lt;b&gt;What it is: &lt;/b&gt;A lightweight, talc-fr...</td>\n",
       "      <td>&lt;div&gt; -Cacao and Shea Butters: Nourish and con...</td>\n",
       "      <td>4.5 stars</td>\n",
       "      <td>$29.00</td>\n",
       "    </tr>\n",
       "    <tr>\n",
       "      <th>1001</th>\n",
       "      <td>Sephora</td>\n",
       "      <td>SEPHORA COLLECTION</td>\n",
       "      <td>Bright Future Instant Glow Face Mist</td>\n",
       "      <td>face mist</td>\n",
       "      <td>&lt;b&gt;What it is: &lt;/b&gt;A fine-mist face spray, enr...</td>\n",
       "      <td>&lt;div&gt;Aqua (Water), Glycerin, Pentylene Glycol,...</td>\n",
       "      <td>3 stars</td>\n",
       "      <td>$16.00</td>\n",
       "    </tr>\n",
       "    <tr>\n",
       "      <th>1002</th>\n",
       "      <td>Sephora</td>\n",
       "      <td>Lancôme</td>\n",
       "      <td>Mini Fix It Forget It Setting Spray</td>\n",
       "      <td>face mist</td>\n",
       "      <td>&lt;div&gt;&lt;b&gt;What it is:&lt;/b&gt;&lt;br&gt;An anti-pollution s...</td>\n",
       "      <td>&lt;div&gt;-Vitamin C From Kiwi Extract: Helps prote...</td>\n",
       "      <td>3.5 stars</td>\n",
       "      <td>$17.00</td>\n",
       "    </tr>\n",
       "  </tbody>\n",
       "</table>\n",
       "<p>1003 rows × 8 columns</p>\n",
       "</div>"
      ],
      "text/plain": [
       "      Website               brand  \\\n",
       "0     Sephora        AMOREPACIFIC   \n",
       "1     Sephora                Dior   \n",
       "2     Sephora                Dior   \n",
       "3     Sephora              La Mer   \n",
       "4     Sephora                Dior   \n",
       "...       ...                 ...   \n",
       "998   Sephora         HUDA BEAUTY   \n",
       "999   Sephora           Too Faced   \n",
       "1000  Sephora        bareMinerals   \n",
       "1001  Sephora  SEPHORA COLLECTION   \n",
       "1002  Sephora             Lancôme   \n",
       "\n",
       "                                                Product       Type  \\\n",
       "0     Color Control Cushion Compact Broad Spectrum S...    cushion   \n",
       "1     Dreamskin Fresh &amp; Perfect Cushion Broad Sp...    cushion   \n",
       "2                     Dior Forever Loose Cushion Powder    cushion   \n",
       "3     The Luminous Lifting Cushion Foundation SPF 20...    cushion   \n",
       "4     Dreamskin Fresh &amp; Perfect Cushion Broad Sp...    cushion   \n",
       "...                                                 ...        ...   \n",
       "998          Resting Boss Face Waterproof Setting Spray  face mist   \n",
       "999   Mini Hangover 3-in-1 Replenishing Primer &amp;...  face mist   \n",
       "1000       Original Mineral Veil Pressed Setting Powder  face mist   \n",
       "1001               Bright Future Instant Glow Face Mist  face mist   \n",
       "1002                Mini Fix It Forget It Setting Spray  face mist   \n",
       "\n",
       "                                                  About  \\\n",
       "0     Which skin type is it good for?✔ Normal✔ Oily✔...   \n",
       "1     What it is:  A skincare compact that blurs the...   \n",
       "2     What it is: An ultra-fine loose powder for a l...   \n",
       "3     What it is: A foundation with healing hydratio...   \n",
       "4     What it is:  A skincare compact that blurs the...   \n",
       "...                                                 ...   \n",
       "998                                                 NaN   \n",
       "999   <div><b>What it is:</b><br> A mini weightless,...   \n",
       "1000  <div><b>What it is: </b>A lightweight, talc-fr...   \n",
       "1001  <b>What it is: </b>A fine-mist face spray, enr...   \n",
       "1002  <div><b>What it is:</b><br>An anti-pollution s...   \n",
       "\n",
       "                                            ingredients    Reviews    Price  \n",
       "0      -Ethylhexyl Methoxycinnamate: 7%\\n -Titanium ...    4 stars   $75.00  \n",
       "1      -Longoza Flower: Renowned for its exceptional...    4 stars   $82.00  \n",
       "2     -Wild-Pansy ExtractSynthetic Fluorphlogopite, ...  3.5 stars   $58.00  \n",
       "3      -Titanium Dioxide 6.5%\\nWater, Butylene Glyco...    4 stars  $125.00  \n",
       "4      -Longoza Flower: Renowned for its exceptional...  4.5 stars   $42.00  \n",
       "...                                                 ...        ...      ...  \n",
       "998   <div>Alcohol Denat., Water, Glycerin, Isopropy...    3 stars   $33.00  \n",
       "999   <div>Water, Pentylene Glycol, Aloe Barbadensis...    4 stars   $17.00  \n",
       "1000  <div> -Cacao and Shea Butters: Nourish and con...  4.5 stars   $29.00  \n",
       "1001  <div>Aqua (Water), Glycerin, Pentylene Glycol,...    3 stars   $16.00  \n",
       "1002  <div>-Vitamin C From Kiwi Extract: Helps prote...  3.5 stars   $17.00  \n",
       "\n",
       "[1003 rows x 8 columns]"
      ]
     },
     "execution_count": 375,
     "metadata": {},
     "output_type": "execute_result"
    }
   ],
   "source": [
    "seph1"
   ]
  },
  {
   "cell_type": "code",
   "execution_count": 376,
   "id": "483ce9cd",
   "metadata": {},
   "outputs": [],
   "source": [
    "brand=seph1[seph1['Price'].isnull()]"
   ]
  },
  {
   "cell_type": "code",
   "execution_count": 377,
   "id": "1cb241db",
   "metadata": {
    "scrolled": true
   },
   "outputs": [
    {
     "data": {
      "text/html": [
       "<div>\n",
       "<style scoped>\n",
       "    .dataframe tbody tr th:only-of-type {\n",
       "        vertical-align: middle;\n",
       "    }\n",
       "\n",
       "    .dataframe tbody tr th {\n",
       "        vertical-align: top;\n",
       "    }\n",
       "\n",
       "    .dataframe thead th {\n",
       "        text-align: right;\n",
       "    }\n",
       "</style>\n",
       "<table border=\"1\" class=\"dataframe\">\n",
       "  <thead>\n",
       "    <tr style=\"text-align: right;\">\n",
       "      <th></th>\n",
       "      <th>Website</th>\n",
       "      <th>brand</th>\n",
       "      <th>Product</th>\n",
       "      <th>Type</th>\n",
       "      <th>About</th>\n",
       "      <th>ingredients</th>\n",
       "      <th>Reviews</th>\n",
       "      <th>Price</th>\n",
       "    </tr>\n",
       "  </thead>\n",
       "  <tbody>\n",
       "  </tbody>\n",
       "</table>\n",
       "</div>"
      ],
      "text/plain": [
       "Empty DataFrame\n",
       "Columns: [Website, brand, Product, Type, About, ingredients, Reviews, Price]\n",
       "Index: []"
      ]
     },
     "execution_count": 377,
     "metadata": {},
     "output_type": "execute_result"
    }
   ],
   "source": [
    "brand"
   ]
  },
  {
   "cell_type": "code",
   "execution_count": 378,
   "id": "0f8c7351",
   "metadata": {},
   "outputs": [
    {
     "data": {
      "text/plain": [
       "Series([], Name: Reviews, dtype: object)"
      ]
     },
     "execution_count": 378,
     "metadata": {},
     "output_type": "execute_result"
    }
   ],
   "source": [
    "seph1.loc[seph1.index[seph1['Price'].isnull()]].Reviews"
   ]
  },
  {
   "cell_type": "code",
   "execution_count": 379,
   "id": "ed80caf4",
   "metadata": {},
   "outputs": [],
   "source": [
    "seph1.iloc[985].Price=\"$42.00\""
   ]
  },
  {
   "cell_type": "code",
   "execution_count": 380,
   "id": "b362e369",
   "metadata": {
    "scrolled": true
   },
   "outputs": [],
   "source": [
    "seph1.to_csv('sephora_data_overall.csv',index=False)"
   ]
  },
  {
   "cell_type": "code",
   "execution_count": 205,
   "id": "314aac02",
   "metadata": {},
   "outputs": [],
   "source": [
    "#brand.iloc[0].Product\n",
    "seph1.iloc[452].Reviews=\"5 stars\""
   ]
  },
  {
   "cell_type": "code",
   "execution_count": 71,
   "id": "f6c9edf6",
   "metadata": {},
   "outputs": [
    {
     "ename": "NoSuchElementException",
     "evalue": "Message: no such element: Unable to locate element: {\"method\":\"xpath\",\"selector\":\"(//p[@class='css-1b4yla5']/span[@class='css-1gdw190']/span/b)\"}\n  (Session info: chrome=97.0.4692.71)\n",
     "output_type": "error",
     "traceback": [
      "\u001b[1;31m---------------------------------------------------------------------------\u001b[0m",
      "\u001b[1;31mNoSuchElementException\u001b[0m                    Traceback (most recent call last)",
      "\u001b[1;32m~\\AppData\\Local\\Temp/ipykernel_27304/1680424626.py\u001b[0m in \u001b[0;36m<module>\u001b[1;34m\u001b[0m\n\u001b[0;32m     15\u001b[0m     \u001b[1;32mexcept\u001b[0m\u001b[1;33m:\u001b[0m\u001b[1;33m\u001b[0m\u001b[1;33m\u001b[0m\u001b[0m\n\u001b[0;32m     16\u001b[0m         \u001b[1;32mpass\u001b[0m\u001b[1;33m\u001b[0m\u001b[1;33m\u001b[0m\u001b[0m\n\u001b[1;32m---> 17\u001b[1;33m     \u001b[0mseph1\u001b[0m\u001b[1;33m.\u001b[0m\u001b[0miloc\u001b[0m\u001b[1;33m[\u001b[0m\u001b[0mbrand\u001b[0m\u001b[1;33m.\u001b[0m\u001b[0mindex\u001b[0m\u001b[1;33m[\u001b[0m\u001b[0midx\u001b[0m\u001b[1;33m]\u001b[0m\u001b[1;33m]\u001b[0m\u001b[1;33m.\u001b[0m\u001b[0mPrice\u001b[0m\u001b[1;33m=\u001b[0m\u001b[0mdriver\u001b[0m\u001b[1;33m.\u001b[0m\u001b[0mfind_element_by_xpath\u001b[0m\u001b[1;33m(\u001b[0m\u001b[1;34m\"(//p[@class='css-1b4yla5']/span[@class='css-1gdw190']/span/b)\"\u001b[0m\u001b[1;33m)\u001b[0m\u001b[1;33m.\u001b[0m\u001b[0mget_attribute\u001b[0m\u001b[1;33m(\u001b[0m\u001b[1;34m'innerHTML'\u001b[0m\u001b[1;33m)\u001b[0m\u001b[1;33m\u001b[0m\u001b[1;33m\u001b[0m\u001b[0m\n\u001b[0m",
      "\u001b[1;32m~\\anaconda3\\envs\\metis\\lib\\site-packages\\selenium\\webdriver\\remote\\webdriver.py\u001b[0m in \u001b[0;36mfind_element_by_xpath\u001b[1;34m(self, xpath)\u001b[0m\n\u001b[0;32m    392\u001b[0m             \u001b[0melement\u001b[0m \u001b[1;33m=\u001b[0m \u001b[0mdriver\u001b[0m\u001b[1;33m.\u001b[0m\u001b[0mfind_element_by_xpath\u001b[0m\u001b[1;33m(\u001b[0m\u001b[1;34m'//div/td[1]'\u001b[0m\u001b[1;33m)\u001b[0m\u001b[1;33m\u001b[0m\u001b[1;33m\u001b[0m\u001b[0m\n\u001b[0;32m    393\u001b[0m         \"\"\"\n\u001b[1;32m--> 394\u001b[1;33m         \u001b[1;32mreturn\u001b[0m \u001b[0mself\u001b[0m\u001b[1;33m.\u001b[0m\u001b[0mfind_element\u001b[0m\u001b[1;33m(\u001b[0m\u001b[0mby\u001b[0m\u001b[1;33m=\u001b[0m\u001b[0mBy\u001b[0m\u001b[1;33m.\u001b[0m\u001b[0mXPATH\u001b[0m\u001b[1;33m,\u001b[0m \u001b[0mvalue\u001b[0m\u001b[1;33m=\u001b[0m\u001b[0mxpath\u001b[0m\u001b[1;33m)\u001b[0m\u001b[1;33m\u001b[0m\u001b[1;33m\u001b[0m\u001b[0m\n\u001b[0m\u001b[0;32m    395\u001b[0m \u001b[1;33m\u001b[0m\u001b[0m\n\u001b[0;32m    396\u001b[0m     \u001b[1;32mdef\u001b[0m \u001b[0mfind_elements_by_xpath\u001b[0m\u001b[1;33m(\u001b[0m\u001b[0mself\u001b[0m\u001b[1;33m,\u001b[0m \u001b[0mxpath\u001b[0m\u001b[1;33m)\u001b[0m\u001b[1;33m:\u001b[0m\u001b[1;33m\u001b[0m\u001b[1;33m\u001b[0m\u001b[0m\n",
      "\u001b[1;32m~\\anaconda3\\envs\\metis\\lib\\site-packages\\selenium\\webdriver\\remote\\webdriver.py\u001b[0m in \u001b[0;36mfind_element\u001b[1;34m(self, by, value)\u001b[0m\n\u001b[0;32m    974\u001b[0m                 \u001b[0mby\u001b[0m \u001b[1;33m=\u001b[0m \u001b[0mBy\u001b[0m\u001b[1;33m.\u001b[0m\u001b[0mCSS_SELECTOR\u001b[0m\u001b[1;33m\u001b[0m\u001b[1;33m\u001b[0m\u001b[0m\n\u001b[0;32m    975\u001b[0m                 \u001b[0mvalue\u001b[0m \u001b[1;33m=\u001b[0m \u001b[1;34m'[name=\"%s\"]'\u001b[0m \u001b[1;33m%\u001b[0m \u001b[0mvalue\u001b[0m\u001b[1;33m\u001b[0m\u001b[1;33m\u001b[0m\u001b[0m\n\u001b[1;32m--> 976\u001b[1;33m         return self.execute(Command.FIND_ELEMENT, {\n\u001b[0m\u001b[0;32m    977\u001b[0m             \u001b[1;34m'using'\u001b[0m\u001b[1;33m:\u001b[0m \u001b[0mby\u001b[0m\u001b[1;33m,\u001b[0m\u001b[1;33m\u001b[0m\u001b[1;33m\u001b[0m\u001b[0m\n\u001b[0;32m    978\u001b[0m             'value': value})['value']\n",
      "\u001b[1;32m~\\anaconda3\\envs\\metis\\lib\\site-packages\\selenium\\webdriver\\remote\\webdriver.py\u001b[0m in \u001b[0;36mexecute\u001b[1;34m(self, driver_command, params)\u001b[0m\n\u001b[0;32m    319\u001b[0m         \u001b[0mresponse\u001b[0m \u001b[1;33m=\u001b[0m \u001b[0mself\u001b[0m\u001b[1;33m.\u001b[0m\u001b[0mcommand_executor\u001b[0m\u001b[1;33m.\u001b[0m\u001b[0mexecute\u001b[0m\u001b[1;33m(\u001b[0m\u001b[0mdriver_command\u001b[0m\u001b[1;33m,\u001b[0m \u001b[0mparams\u001b[0m\u001b[1;33m)\u001b[0m\u001b[1;33m\u001b[0m\u001b[1;33m\u001b[0m\u001b[0m\n\u001b[0;32m    320\u001b[0m         \u001b[1;32mif\u001b[0m \u001b[0mresponse\u001b[0m\u001b[1;33m:\u001b[0m\u001b[1;33m\u001b[0m\u001b[1;33m\u001b[0m\u001b[0m\n\u001b[1;32m--> 321\u001b[1;33m             \u001b[0mself\u001b[0m\u001b[1;33m.\u001b[0m\u001b[0merror_handler\u001b[0m\u001b[1;33m.\u001b[0m\u001b[0mcheck_response\u001b[0m\u001b[1;33m(\u001b[0m\u001b[0mresponse\u001b[0m\u001b[1;33m)\u001b[0m\u001b[1;33m\u001b[0m\u001b[1;33m\u001b[0m\u001b[0m\n\u001b[0m\u001b[0;32m    322\u001b[0m             response['value'] = self._unwrap_value(\n\u001b[0;32m    323\u001b[0m                 response.get('value', None))\n",
      "\u001b[1;32m~\\anaconda3\\envs\\metis\\lib\\site-packages\\selenium\\webdriver\\remote\\errorhandler.py\u001b[0m in \u001b[0;36mcheck_response\u001b[1;34m(self, response)\u001b[0m\n\u001b[0;32m    240\u001b[0m                 \u001b[0malert_text\u001b[0m \u001b[1;33m=\u001b[0m \u001b[0mvalue\u001b[0m\u001b[1;33m[\u001b[0m\u001b[1;34m'alert'\u001b[0m\u001b[1;33m]\u001b[0m\u001b[1;33m.\u001b[0m\u001b[0mget\u001b[0m\u001b[1;33m(\u001b[0m\u001b[1;34m'text'\u001b[0m\u001b[1;33m)\u001b[0m\u001b[1;33m\u001b[0m\u001b[1;33m\u001b[0m\u001b[0m\n\u001b[0;32m    241\u001b[0m             \u001b[1;32mraise\u001b[0m \u001b[0mexception_class\u001b[0m\u001b[1;33m(\u001b[0m\u001b[0mmessage\u001b[0m\u001b[1;33m,\u001b[0m \u001b[0mscreen\u001b[0m\u001b[1;33m,\u001b[0m \u001b[0mstacktrace\u001b[0m\u001b[1;33m,\u001b[0m \u001b[0malert_text\u001b[0m\u001b[1;33m)\u001b[0m\u001b[1;33m\u001b[0m\u001b[1;33m\u001b[0m\u001b[0m\n\u001b[1;32m--> 242\u001b[1;33m         \u001b[1;32mraise\u001b[0m \u001b[0mexception_class\u001b[0m\u001b[1;33m(\u001b[0m\u001b[0mmessage\u001b[0m\u001b[1;33m,\u001b[0m \u001b[0mscreen\u001b[0m\u001b[1;33m,\u001b[0m \u001b[0mstacktrace\u001b[0m\u001b[1;33m)\u001b[0m\u001b[1;33m\u001b[0m\u001b[1;33m\u001b[0m\u001b[0m\n\u001b[0m\u001b[0;32m    243\u001b[0m \u001b[1;33m\u001b[0m\u001b[0m\n\u001b[0;32m    244\u001b[0m     \u001b[1;32mdef\u001b[0m \u001b[0m_value_or_default\u001b[0m\u001b[1;33m(\u001b[0m\u001b[0mself\u001b[0m\u001b[1;33m,\u001b[0m \u001b[0mobj\u001b[0m\u001b[1;33m,\u001b[0m \u001b[0mkey\u001b[0m\u001b[1;33m,\u001b[0m \u001b[0mdefault\u001b[0m\u001b[1;33m)\u001b[0m\u001b[1;33m:\u001b[0m\u001b[1;33m\u001b[0m\u001b[1;33m\u001b[0m\u001b[0m\n",
      "\u001b[1;31mNoSuchElementException\u001b[0m: Message: no such element: Unable to locate element: {\"method\":\"xpath\",\"selector\":\"(//p[@class='css-1b4yla5']/span[@class='css-1gdw190']/span/b)\"}\n  (Session info: chrome=97.0.4692.71)\n"
     ]
    }
   ],
   "source": [
    "url=\"https://www.sephora.com/\"\n",
    "#Sephora Website\n",
    "options=Options()\n",
    "options.add_argument(\"--disable-notifications\")\n",
    "driver=webdriver.Chrome('C:/Users/hancc/Documents/Data Scientist/Module2/chromedriver_win32/chromedriver')\n",
    "driver.get(url)\n",
    "time.sleep(5) #let user see something\n",
    "for idx,x in enumerate(brand['Product']):\n",
    "    search_box=driver.find_element_by_name('keyword')\n",
    "    search_box.send_keys(x)\n",
    "    search_box.submit()\n",
    "    time.sleep(5)\n",
    "    try:\n",
    "        driver.find_element_by_css_selector('[class=\"css-1kna575\"]').click()\n",
    "    except:\n",
    "        pass\n",
    "    seph1.iloc[brand.index[idx]].Price=driver.find_element_by_xpath(\"(//p[@class='css-1b4yla5']/span[@class='css-1gdw190']/span/b)\").get_attribute('innerHTML')"
   ]
  },
  {
   "cell_type": "code",
   "execution_count": 51,
   "id": "544311a1",
   "metadata": {},
   "outputs": [
    {
     "data": {
      "text/plain": [
       "38"
      ]
     },
     "execution_count": 51,
     "metadata": {},
     "output_type": "execute_result"
    }
   ],
   "source": [
    "#for i in brand['Product'].index:\n",
    "#    seph1.iloc[i].Price=\n",
    "brand.index[1]\n"
   ]
  },
  {
   "cell_type": "code",
   "execution_count": null,
   "id": "88747463",
   "metadata": {},
   "outputs": [],
   "source": []
  }
 ],
 "metadata": {
  "kernelspec": {
   "display_name": "Python 3 (ipykernel)",
   "language": "python",
   "name": "python3"
  },
  "language_info": {
   "codemirror_mode": {
    "name": "ipython",
    "version": 3
   },
   "file_extension": ".py",
   "mimetype": "text/x-python",
   "name": "python",
   "nbconvert_exporter": "python",
   "pygments_lexer": "ipython3",
   "version": "3.9.7"
  }
 },
 "nbformat": 4,
 "nbformat_minor": 5
}
